{
  "nbformat": 4,
  "nbformat_minor": 0,
  "metadata": {
    "colab": {
      "name": ".pck_File_To_JPEG",
      "provenance": [],
      "collapsed_sections": []
    },
    "kernelspec": {
      "display_name": "Python 3",
      "name": "python3"
    }
  },
  "cells": [
    {
      "cell_type": "code",
      "metadata": {
        "id": "ml0M0TZuZzip"
      },
      "source": [
        "import matplotlib.pyplot as plt \n",
        "import pickle\n",
        "import numpy as np\n",
        "import time"
      ],
      "execution_count": null,
      "outputs": []
    },
    {
      "cell_type": "code",
      "metadata": {
        "id": "KJOXLWTTpb9Y",
        "colab": {
          "base_uri": "https://localhost:8080/"
        },
        "outputId": "206b4831-c27b-40c1-b9b8-5bee24b2acb0"
      },
      "source": [
        "data=pickle.load(open(\"/content/329637-8.pck\",'rb'))\n",
        "print(data.shape)"
      ],
      "execution_count": 6,
      "outputs": [
        {
          "output_type": "stream",
          "text": [
            "(32, 320, 320)\n"
          ],
          "name": "stdout"
        }
      ]
    },
    {
      "cell_type": "code",
      "metadata": {
        "colab": {
          "base_uri": "https://localhost:8080/"
        },
        "id": "wHJ-1y5fp3sN",
        "outputId": "13531bf7-e10b-4abe-fdcd-0deacb670fde"
      },
      "source": [
        "from google.colab import drive\n",
        "drive.mount('/content/drive')"
      ],
      "execution_count": null,
      "outputs": [
        {
          "output_type": "stream",
          "text": [
            "Mounted at /content/drive\n"
          ],
          "name": "stdout"
        }
      ]
    }
  ]
}